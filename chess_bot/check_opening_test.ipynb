{
 "cells": [
  {
   "cell_type": "code",
   "execution_count": 41,
   "metadata": {},
   "outputs": [],
   "source": [
    "import berserk\n",
    "import pandas as pd"
   ]
  },
  {
   "cell_type": "code",
   "execution_count": 42,
   "metadata": {},
   "outputs": [],
   "source": [
    "with open(\"lichess_token.txt\", \"r\") as f:\n",
    "        API_TOKEN = f.read().strip()\n",
    "    \n",
    "try:\n",
    "    session = berserk.TokenSession(API_TOKEN)\n",
    "except:\n",
    "    e = sys.exc_info()\n",
    "    print(f\"cannot create session: {e}\")\n",
    "    sys.exit(-1)\n",
    "\n",
    "try:\n",
    "    client = berserk.Client(session=session)\n",
    "except:\n",
    "    e = sys.exc_info()\n",
    "    print(f\"cannot create lichess client: {e}\")\n",
    "    sys.exit(-1)"
   ]
  },
  {
   "cell_type": "code",
   "execution_count": 43,
   "metadata": {},
   "outputs": [],
   "source": [
    "response = client.opening_explorer.get_lichess_games(position=\"rnbqkbnr/pp1ppppp/8/2p5/3PP3/8/PPP2PPP/RNBQKBNR b KQkq d3 0 2\")"
   ]
  },
  {
   "cell_type": "code",
   "execution_count": 44,
   "metadata": {},
   "outputs": [
    {
     "data": {
      "text/plain": [
       "{'white': 23807098,\n",
       " 'draws': 1767295,\n",
       " 'black': 23343848,\n",
       " 'moves': [{'uci': 'c5d4',\n",
       "   'san': 'cxd4',\n",
       "   'averageRating': 1746,\n",
       "   'white': 17069213,\n",
       "   'draws': 1322681,\n",
       "   'black': 17316385,\n",
       "   'game': None},\n",
       "  {'uci': 'b8c6',\n",
       "   'san': 'Nc6',\n",
       "   'averageRating': 1690,\n",
       "   'white': 2167032,\n",
       "   'draws': 125197,\n",
       "   'black': 1847853,\n",
       "   'game': None},\n",
       "  {'uci': 'e7e6',\n",
       "   'san': 'e6',\n",
       "   'averageRating': 1690,\n",
       "   'white': 1976243,\n",
       "   'draws': 132784,\n",
       "   'black': 1940001,\n",
       "   'game': None},\n",
       "  {'uci': 'd7d6',\n",
       "   'san': 'd6',\n",
       "   'averageRating': 1645,\n",
       "   'white': 1551148,\n",
       "   'draws': 116603,\n",
       "   'black': 1351850,\n",
       "   'game': None},\n",
       "  {'uci': 'g7g6',\n",
       "   'san': 'g6',\n",
       "   'averageRating': 1806,\n",
       "   'white': 205561,\n",
       "   'draws': 14455,\n",
       "   'black': 211911,\n",
       "   'game': None},\n",
       "  {'uci': 'b7b6',\n",
       "   'san': 'b6',\n",
       "   'averageRating': 1335,\n",
       "   'white': 224005,\n",
       "   'draws': 14549,\n",
       "   'black': 171150,\n",
       "   'game': None},\n",
       "  {'uci': 'd7d5',\n",
       "   'san': 'd5',\n",
       "   'averageRating': 1503,\n",
       "   'white': 165073,\n",
       "   'draws': 13667,\n",
       "   'black': 146883,\n",
       "   'game': None},\n",
       "  {'uci': 'g8f6',\n",
       "   'san': 'Nf6',\n",
       "   'averageRating': 1570,\n",
       "   'white': 129119,\n",
       "   'draws': 8259,\n",
       "   'black': 117038,\n",
       "   'game': None},\n",
       "  {'uci': 'c5c4',\n",
       "   'san': 'c4',\n",
       "   'averageRating': 1498,\n",
       "   'white': 101123,\n",
       "   'draws': 5286,\n",
       "   'black': 63883,\n",
       "   'game': None},\n",
       "  {'uci': 'a7a6',\n",
       "   'san': 'a6',\n",
       "   'averageRating': 1815,\n",
       "   'white': 69220,\n",
       "   'draws': 4513,\n",
       "   'black': 68709,\n",
       "   'game': None},\n",
       "  {'uci': 'd8a5',\n",
       "   'san': 'Qa5+',\n",
       "   'averageRating': 1252,\n",
       "   'white': 44157,\n",
       "   'draws': 2918,\n",
       "   'black': 30455,\n",
       "   'game': None},\n",
       "  {'uci': 'e7e5',\n",
       "   'san': 'e5',\n",
       "   'averageRating': 1404,\n",
       "   'white': 31924,\n",
       "   'draws': 1920,\n",
       "   'black': 23527,\n",
       "   'game': None}],\n",
       " 'recentGames': [{'uci': 'c5d4',\n",
       "   'id': '53ut10qx',\n",
       "   'winner': 'white',\n",
       "   'speed': 'bullet',\n",
       "   'mode': 'rated',\n",
       "   'black': {'name': 'tamirciata', 'rating': 2424},\n",
       "   'white': {'name': 'LiyaSilver', 'rating': 2520},\n",
       "   'year': 2024,\n",
       "   'month': '2024-02'},\n",
       "  {'uci': 'c5d4',\n",
       "   'id': 'kPKfPFsk',\n",
       "   'winner': 'white',\n",
       "   'speed': 'blitz',\n",
       "   'mode': 'rated',\n",
       "   'black': {'name': 'proletkatapelt1983', 'rating': 1595},\n",
       "   'white': {'name': 'checkmatestupid', 'rating': 1512},\n",
       "   'year': 2024,\n",
       "   'month': '2024-02'},\n",
       "  {'uci': 'c5d4',\n",
       "   'id': 'DrBmL9IH',\n",
       "   'winner': 'white',\n",
       "   'speed': 'bullet',\n",
       "   'mode': 'rated',\n",
       "   'black': {'name': 'stino1', 'rating': 1637},\n",
       "   'white': {'name': 'ailuroleer', 'rating': 1694},\n",
       "   'year': 2024,\n",
       "   'month': '2024-02'},\n",
       "  {'uci': 'c5d4',\n",
       "   'id': 'u8MIpW10',\n",
       "   'winner': 'white',\n",
       "   'speed': 'blitz',\n",
       "   'mode': 'rated',\n",
       "   'black': {'name': 'herese', 'rating': 1843},\n",
       "   'white': {'name': 'Alman', 'rating': 1843},\n",
       "   'year': 2024,\n",
       "   'month': '2024-02'}],\n",
       " 'topGames': [{'uci': 'c5d4',\n",
       "   'id': '4DeczR6U',\n",
       "   'winner': 'black',\n",
       "   'speed': 'bullet',\n",
       "   'mode': 'rated',\n",
       "   'black': {'name': 'Zhigalko_Sergei', 'rating': 2992},\n",
       "   'white': {'name': 'Slivoviy', 'rating': 2796},\n",
       "   'year': 2024,\n",
       "   'month': '2024-02'},\n",
       "  {'uci': 'e7e6',\n",
       "   'id': 'FMuL4adg',\n",
       "   'winner': 'black',\n",
       "   'speed': 'bullet',\n",
       "   'mode': 'rated',\n",
       "   'black': {'name': 'titan00013', 'rating': 2860},\n",
       "   'white': {'name': 'Limpalot', 'rating': 2797},\n",
       "   'year': 2024,\n",
       "   'month': '2024-02'},\n",
       "  {'uci': 'g8f6',\n",
       "   'id': '3tucHW0w',\n",
       "   'winner': 'black',\n",
       "   'speed': 'bullet',\n",
       "   'mode': 'rated',\n",
       "   'black': {'name': 'RealPerangel', 'rating': 2846},\n",
       "   'white': {'name': 'Rat_variant', 'rating': 2849},\n",
       "   'year': 2024,\n",
       "   'month': '2024-02'},\n",
       "  {'uci': 'd7d6',\n",
       "   'id': 'mcS7WZeN',\n",
       "   'winner': 'white',\n",
       "   'speed': 'bullet',\n",
       "   'mode': 'rated',\n",
       "   'black': {'name': 'Limpalot', 'rating': 2795},\n",
       "   'white': {'name': 'titan00013', 'rating': 2861},\n",
       "   'year': 2024,\n",
       "   'month': '2024-02'}],\n",
       " 'opening': {'eco': 'B21', 'name': 'Sicilian Defense: Smith-Morra Gambit'}}"
      ]
     },
     "execution_count": 44,
     "metadata": {},
     "output_type": "execute_result"
    }
   ],
   "source": [
    "response"
   ]
  },
  {
   "cell_type": "code",
   "execution_count": 45,
   "metadata": {},
   "outputs": [
    {
     "data": {
      "text/plain": [
       "'Sicilian Defense: Smith-Morra Gambit'"
      ]
     },
     "execution_count": 45,
     "metadata": {},
     "output_type": "execute_result"
    }
   ],
   "source": [
    "response['opening']['name']"
   ]
  },
  {
   "cell_type": "code",
   "execution_count": 46,
   "metadata": {},
   "outputs": [],
   "source": [
    "input_csv = '../data/opening_stats/Elo_1500_1600.csv'"
   ]
  },
  {
   "cell_type": "code",
   "execution_count": 47,
   "metadata": {},
   "outputs": [],
   "source": [
    "df = pd.read_csv(input_csv, index_col=1, header=0)"
   ]
  },
  {
   "cell_type": "code",
   "execution_count": 48,
   "metadata": {},
   "outputs": [
    {
     "data": {
      "text/html": [
       "<div>\n",
       "<style scoped>\n",
       "    .dataframe tbody tr th:only-of-type {\n",
       "        vertical-align: middle;\n",
       "    }\n",
       "\n",
       "    .dataframe tbody tr th {\n",
       "        vertical-align: top;\n",
       "    }\n",
       "\n",
       "    .dataframe thead th {\n",
       "        text-align: right;\n",
       "    }\n",
       "</style>\n",
       "<table border=\"1\" class=\"dataframe\">\n",
       "  <thead>\n",
       "    <tr style=\"text-align: right;\">\n",
       "      <th></th>\n",
       "      <th>Opening</th>\n",
       "      <th>Losses</th>\n",
       "      <th>Draws</th>\n",
       "    </tr>\n",
       "    <tr>\n",
       "      <th>Wins</th>\n",
       "      <th></th>\n",
       "      <th></th>\n",
       "      <th></th>\n",
       "    </tr>\n",
       "  </thead>\n",
       "  <tbody>\n",
       "    <tr>\n",
       "      <th>9</th>\n",
       "      <td>Sicilian Defense: Smith-Morra Gambit</td>\n",
       "      <td>9</td>\n",
       "      <td>1</td>\n",
       "    </tr>\n",
       "  </tbody>\n",
       "</table>\n",
       "</div>"
      ],
      "text/plain": [
       "                                   Opening  Losses  Draws\n",
       "Wins                                                     \n",
       "9     Sicilian Defense: Smith-Morra Gambit       9      1"
      ]
     },
     "execution_count": 48,
     "metadata": {},
     "output_type": "execute_result"
    }
   ],
   "source": [
    "# show df where the opening is the same as the opening in the response\n",
    "df[df['Opening'] == response['opening']['name']]"
   ]
  }
 ],
 "metadata": {
  "kernelspec": {
   "display_name": "Python 3",
   "language": "python",
   "name": "python3"
  },
  "language_info": {
   "codemirror_mode": {
    "name": "ipython",
    "version": 3
   },
   "file_extension": ".py",
   "mimetype": "text/x-python",
   "name": "python",
   "nbconvert_exporter": "python",
   "pygments_lexer": "ipython3",
   "version": "3.10.12"
  }
 },
 "nbformat": 4,
 "nbformat_minor": 2
}
