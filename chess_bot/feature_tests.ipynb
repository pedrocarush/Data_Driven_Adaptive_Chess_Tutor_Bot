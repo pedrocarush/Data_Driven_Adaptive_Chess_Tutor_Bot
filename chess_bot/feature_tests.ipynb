{
 "cells": [
  {
   "cell_type": "code",
   "execution_count": 1,
   "metadata": {},
   "outputs": [],
   "source": [
    "import chess\n",
    "import pandas as pd\n",
    "from extract_features import board_features\n"
   ]
  },
  {
   "cell_type": "code",
   "execution_count": 2,
   "metadata": {},
   "outputs": [],
   "source": [
    "pd.set_option('display.max_columns', 500)"
   ]
  },
  {
   "cell_type": "code",
   "execution_count": 3,
   "metadata": {},
   "outputs": [],
   "source": [
    "last_board = chess.Board(\"r2qkb1r/ppp2ppp/2B2n2/3pp3/3P1B2/2N1Pb2/PPP2PPP/R2QK2R b KQkq - 0 7\")\n",
    "current_board = chess.Board(\"3rkb1r/1B1bqpp1/p7/3QN2p/4PP2/1PN5/P1P2P1P/2KR3R b k - 0 17\")"
   ]
  },
  {
   "cell_type": "code",
   "execution_count": 4,
   "metadata": {},
   "outputs": [],
   "source": [
    "last_board_features = board_features(last_board)\n",
    "current_board_features = board_features(current_board)"
   ]
  },
  {
   "cell_type": "code",
   "execution_count": 5,
   "metadata": {},
   "outputs": [],
   "source": [
    "current_board_features.sort_index(inplace=True,axis=1)"
   ]
  },
  {
   "cell_type": "code",
   "execution_count": 6,
   "metadata": {},
   "outputs": [],
   "source": [
    "last_board_features.sort_index(inplace=True,axis=1)"
   ]
  },
  {
   "cell_type": "code",
   "execution_count": 7,
   "metadata": {},
   "outputs": [
    {
     "data": {
      "text/html": [
       "<div>\n",
       "<style scoped>\n",
       "    .dataframe tbody tr th:only-of-type {\n",
       "        vertical-align: middle;\n",
       "    }\n",
       "\n",
       "    .dataframe tbody tr th {\n",
       "        vertical-align: top;\n",
       "    }\n",
       "\n",
       "    .dataframe thead th {\n",
       "        text-align: right;\n",
       "    }\n",
       "</style>\n",
       "<table border=\"1\" class=\"dataframe\">\n",
       "  <thead>\n",
       "    <tr style=\"text-align: right;\">\n",
       "      <th></th>\n",
       "      <th>B_white</th>\n",
       "      <th>Check_black</th>\n",
       "      <th>Check_white</th>\n",
       "      <th>Doubled_pawns_black</th>\n",
       "      <th>Doubled_pawns_white</th>\n",
       "      <th>Isolated_pawns_black</th>\n",
       "      <th>Isolated_pawns_white</th>\n",
       "      <th>K_white</th>\n",
       "      <th>King_pawn_shield_black</th>\n",
       "      <th>King_pawn_shield_white</th>\n",
       "      <th>King_zone_attacked_squares_black</th>\n",
       "      <th>King_zone_attacked_squares_white</th>\n",
       "      <th>King_zone_controlled_squares_black</th>\n",
       "      <th>King_zone_controlled_squares_white</th>\n",
       "      <th>Mobility_black</th>\n",
       "      <th>Mobility_white</th>\n",
       "      <th>N_white</th>\n",
       "      <th>P_white</th>\n",
       "      <th>Passed_pawns_black</th>\n",
       "      <th>Passed_pawns_white</th>\n",
       "      <th>Q_white</th>\n",
       "      <th>R_white</th>\n",
       "      <th>Result</th>\n",
       "      <th>Trapped_bishops_black</th>\n",
       "      <th>Trapped_bishops_white</th>\n",
       "      <th>Trapped_queens_black</th>\n",
       "      <th>Trapped_queens_white</th>\n",
       "      <th>Trapped_rooks_black</th>\n",
       "      <th>Trapped_rooks_white</th>\n",
       "      <th>b_black</th>\n",
       "      <th>k_black</th>\n",
       "      <th>n_black</th>\n",
       "      <th>p_black</th>\n",
       "      <th>q_black</th>\n",
       "      <th>r_black</th>\n",
       "    </tr>\n",
       "  </thead>\n",
       "  <tbody>\n",
       "    <tr>\n",
       "      <th>0</th>\n",
       "      <td>2</td>\n",
       "      <td>1</td>\n",
       "      <td>0</td>\n",
       "      <td>0</td>\n",
       "      <td>0</td>\n",
       "      <td>0</td>\n",
       "      <td>0</td>\n",
       "      <td>1</td>\n",
       "      <td>1</td>\n",
       "      <td>2</td>\n",
       "      <td>2</td>\n",
       "      <td>2</td>\n",
       "      <td>5</td>\n",
       "      <td>6</td>\n",
       "      <td>4</td>\n",
       "      <td>40</td>\n",
       "      <td>1</td>\n",
       "      <td>8</td>\n",
       "      <td>0</td>\n",
       "      <td>0</td>\n",
       "      <td>1</td>\n",
       "      <td>2</td>\n",
       "      <td>0</td>\n",
       "      <td>1</td>\n",
       "      <td>0</td>\n",
       "      <td>0</td>\n",
       "      <td>0</td>\n",
       "      <td>2</td>\n",
       "      <td>2</td>\n",
       "      <td>2</td>\n",
       "      <td>1</td>\n",
       "      <td>1</td>\n",
       "      <td>8</td>\n",
       "      <td>1</td>\n",
       "      <td>2</td>\n",
       "    </tr>\n",
       "  </tbody>\n",
       "</table>\n",
       "</div>"
      ],
      "text/plain": [
       "   B_white  Check_black  Check_white  Doubled_pawns_black  \\\n",
       "0        2            1            0                    0   \n",
       "\n",
       "   Doubled_pawns_white  Isolated_pawns_black  Isolated_pawns_white  K_white  \\\n",
       "0                    0                     0                     0        1   \n",
       "\n",
       "   King_pawn_shield_black  King_pawn_shield_white  \\\n",
       "0                       1                       2   \n",
       "\n",
       "   King_zone_attacked_squares_black  King_zone_attacked_squares_white  \\\n",
       "0                                 2                                 2   \n",
       "\n",
       "   King_zone_controlled_squares_black  King_zone_controlled_squares_white  \\\n",
       "0                                   5                                   6   \n",
       "\n",
       "   Mobility_black  Mobility_white  N_white  P_white  Passed_pawns_black  \\\n",
       "0               4              40        1        8                   0   \n",
       "\n",
       "   Passed_pawns_white  Q_white  R_white  Result  Trapped_bishops_black  \\\n",
       "0                   0        1        2       0                      1   \n",
       "\n",
       "   Trapped_bishops_white  Trapped_queens_black  Trapped_queens_white  \\\n",
       "0                      0                     0                     0   \n",
       "\n",
       "   Trapped_rooks_black  Trapped_rooks_white  b_black  k_black  n_black  \\\n",
       "0                    2                    2        2        1        1   \n",
       "\n",
       "   p_black  q_black  r_black  \n",
       "0        8        1        2  "
      ]
     },
     "execution_count": 7,
     "metadata": {},
     "output_type": "execute_result"
    }
   ],
   "source": [
    "last_board_features"
   ]
  },
  {
   "cell_type": "code",
   "execution_count": 8,
   "metadata": {},
   "outputs": [
    {
     "name": "stderr",
     "output_type": "stream",
     "text": [
      "2024-03-21 09:49:21.672078: I external/local_tsl/tsl/cuda/cudart_stub.cc:31] Could not find cuda drivers on your machine, GPU will not be used.\n",
      "2024-03-21 09:49:21.735564: E external/local_xla/xla/stream_executor/cuda/cuda_dnn.cc:9261] Unable to register cuDNN factory: Attempting to register factory for plugin cuDNN when one has already been registered\n",
      "2024-03-21 09:49:21.735603: E external/local_xla/xla/stream_executor/cuda/cuda_fft.cc:607] Unable to register cuFFT factory: Attempting to register factory for plugin cuFFT when one has already been registered\n",
      "2024-03-21 09:49:21.736928: E external/local_xla/xla/stream_executor/cuda/cuda_blas.cc:1515] Unable to register cuBLAS factory: Attempting to register factory for plugin cuBLAS when one has already been registered\n",
      "2024-03-21 09:49:21.745687: I external/local_tsl/tsl/cuda/cudart_stub.cc:31] Could not find cuda drivers on your machine, GPU will not be used.\n",
      "2024-03-21 09:49:21.747039: I tensorflow/core/platform/cpu_feature_guard.cc:182] This TensorFlow binary is optimized to use available CPU instructions in performance-critical operations.\n",
      "To enable the following instructions: AVX2 FMA, in other operations, rebuild TensorFlow with the appropriate compiler flags.\n",
      "2024-03-21 09:49:22.853586: W tensorflow/compiler/tf2tensorrt/utils/py_utils.cc:38] TF-TRT Warning: Could not find TensorRT\n"
     ]
    }
   ],
   "source": [
    "import pandas as pd\n",
    "import numpy as np\n",
    "#import openpyxl\n",
    "import os\n",
    "from tqdm import tqdm\n",
    "tqdm.pandas()\n",
    "\n",
    "import tensorflow as tf\n",
    "\n",
    "\n",
    "from sklearn.model_selection import KFold\n",
    "from sklearn.model_selection import train_test_split\n",
    "import tensorflow_decision_forests as tfdf"
   ]
  },
  {
   "cell_type": "code",
   "execution_count": 9,
   "metadata": {},
   "outputs": [
    {
     "name": "stderr",
     "output_type": "stream",
     "text": [
      "2024-03-21 09:49:24.564541: I external/local_xla/xla/stream_executor/cuda/cuda_executor.cc:887] could not open file to read NUMA node: /sys/bus/pci/devices/0000:01:00.0/numa_node\n",
      "Your kernel may have been built without NUMA support.\n",
      "2024-03-21 09:49:24.565074: W tensorflow/core/common_runtime/gpu/gpu_device.cc:2256] Cannot dlopen some GPU libraries. Please make sure the missing libraries mentioned above are installed properly if you would like to use GPU. Follow the guide at https://www.tensorflow.org/install/gpu for how to download and setup the required libraries for your platform.\n",
      "Skipping registering GPU devices...\n",
      "[INFO 24-03-21 09:49:24.8565 WET kernel.cc:1233] Loading model from path ../data/6_models/Elo_1500_1600.csv.pkl/assets/ with prefix d42114d41b1b4946\n",
      "[INFO 24-03-21 09:49:25.3986 WET decision_forest.cc:660] Model loaded with 24 root(s), 302976 node(s), and 32 input feature(s).\n",
      "[INFO 24-03-21 09:49:25.3987 WET abstract_model.cc:1344] Engine \"RandomForestOptPred\" built\n",
      "[INFO 24-03-21 09:49:25.3987 WET kernel.cc:1061] Use fast generic engine\n"
     ]
    }
   ],
   "source": [
    "model = tf.keras.models.load_model(\"../data/6_models/Elo_1500_1600.csv.pkl\")"
   ]
  },
  {
   "cell_type": "code",
   "execution_count": null,
   "metadata": {},
   "outputs": [],
   "source": []
  },
  {
   "cell_type": "code",
   "execution_count": 10,
   "metadata": {},
   "outputs": [
    {
     "ename": "AttributeError",
     "evalue": "'RandomForestModel' object has no attribute 'make_inspector'",
     "output_type": "error",
     "traceback": [
      "\u001b[0;31m---------------------------------------------------------------------------\u001b[0m",
      "\u001b[0;31mAttributeError\u001b[0m                            Traceback (most recent call last)",
      "Cell \u001b[0;32mIn[10], line 1\u001b[0m\n\u001b[0;32m----> 1\u001b[0m importance \u001b[38;5;241m=\u001b[39m \u001b[43mmodel\u001b[49m\u001b[38;5;241;43m.\u001b[39;49m\u001b[43mmake_inspector\u001b[49m()\u001b[38;5;241m.\u001b[39mvariable_importances()\n",
      "\u001b[0;31mAttributeError\u001b[0m: 'RandomForestModel' object has no attribute 'make_inspector'"
     ]
    }
   ],
   "source": [
    "importance = model.make_inspector().variable_importances()"
   ]
  },
  {
   "cell_type": "code",
   "execution_count": 29,
   "metadata": {},
   "outputs": [],
   "source": [
    "last_board_features_ds = tfdf.keras.pd_dataframe_to_tf_dataset(last_board_features, label=\"Result\")\n"
   ]
  },
  {
   "cell_type": "code",
   "execution_count": 30,
   "metadata": {},
   "outputs": [
    {
     "name": "stdout",
     "output_type": "stream",
     "text": [
      "1/1 [==============================] - 0s 222ms/step\n"
     ]
    },
    {
     "data": {
      "text/plain": [
       "array([[0.29333314]], dtype=float32)"
      ]
     },
     "execution_count": 30,
     "metadata": {},
     "output_type": "execute_result"
    }
   ],
   "source": [
    "model.predict(last_board_features_ds)"
   ]
  },
  {
   "cell_type": "code",
   "execution_count": 31,
   "metadata": {},
   "outputs": [
    {
     "data": {
      "text/html": [
       "<div>\n",
       "<style scoped>\n",
       "    .dataframe tbody tr th:only-of-type {\n",
       "        vertical-align: middle;\n",
       "    }\n",
       "\n",
       "    .dataframe tbody tr th {\n",
       "        vertical-align: top;\n",
       "    }\n",
       "\n",
       "    .dataframe thead tr th {\n",
       "        text-align: left;\n",
       "    }\n",
       "</style>\n",
       "<table border=\"1\" class=\"dataframe\">\n",
       "  <thead>\n",
       "    <tr>\n",
       "      <th></th>\n",
       "      <th colspan=\"2\" halign=\"left\">B_white</th>\n",
       "      <th colspan=\"2\" halign=\"left\">Check_black</th>\n",
       "      <th colspan=\"2\" halign=\"left\">Doubled_pawns_white</th>\n",
       "      <th colspan=\"2\" halign=\"left\">Isolated_pawns_black</th>\n",
       "      <th colspan=\"2\" halign=\"left\">Isolated_pawns_white</th>\n",
       "      <th colspan=\"2\" halign=\"left\">King_zone_attacked_squares_white</th>\n",
       "      <th colspan=\"2\" halign=\"left\">King_zone_controlled_squares_black</th>\n",
       "      <th colspan=\"2\" halign=\"left\">King_zone_controlled_squares_white</th>\n",
       "      <th colspan=\"2\" halign=\"left\">Mobility_black</th>\n",
       "      <th colspan=\"2\" halign=\"left\">Mobility_white</th>\n",
       "      <th colspan=\"2\" halign=\"left\">N_white</th>\n",
       "      <th colspan=\"2\" halign=\"left\">P_white</th>\n",
       "      <th colspan=\"2\" halign=\"left\">Passed_pawns_white</th>\n",
       "      <th colspan=\"2\" halign=\"left\">Trapped_rooks_black</th>\n",
       "      <th colspan=\"2\" halign=\"left\">Trapped_rooks_white</th>\n",
       "      <th colspan=\"2\" halign=\"left\">n_black</th>\n",
       "      <th colspan=\"2\" halign=\"left\">p_black</th>\n",
       "    </tr>\n",
       "    <tr>\n",
       "      <th></th>\n",
       "      <th>self</th>\n",
       "      <th>other</th>\n",
       "      <th>self</th>\n",
       "      <th>other</th>\n",
       "      <th>self</th>\n",
       "      <th>other</th>\n",
       "      <th>self</th>\n",
       "      <th>other</th>\n",
       "      <th>self</th>\n",
       "      <th>other</th>\n",
       "      <th>self</th>\n",
       "      <th>other</th>\n",
       "      <th>self</th>\n",
       "      <th>other</th>\n",
       "      <th>self</th>\n",
       "      <th>other</th>\n",
       "      <th>self</th>\n",
       "      <th>other</th>\n",
       "      <th>self</th>\n",
       "      <th>other</th>\n",
       "      <th>self</th>\n",
       "      <th>other</th>\n",
       "      <th>self</th>\n",
       "      <th>other</th>\n",
       "      <th>self</th>\n",
       "      <th>other</th>\n",
       "      <th>self</th>\n",
       "      <th>other</th>\n",
       "      <th>self</th>\n",
       "      <th>other</th>\n",
       "      <th>self</th>\n",
       "      <th>other</th>\n",
       "      <th>self</th>\n",
       "      <th>other</th>\n",
       "    </tr>\n",
       "  </thead>\n",
       "  <tbody>\n",
       "    <tr>\n",
       "      <th>0</th>\n",
       "      <td>2</td>\n",
       "      <td>1</td>\n",
       "      <td>1</td>\n",
       "      <td>0</td>\n",
       "      <td>0</td>\n",
       "      <td>1</td>\n",
       "      <td>0</td>\n",
       "      <td>2</td>\n",
       "      <td>0</td>\n",
       "      <td>2</td>\n",
       "      <td>2</td>\n",
       "      <td>0</td>\n",
       "      <td>5</td>\n",
       "      <td>6</td>\n",
       "      <td>6</td>\n",
       "      <td>5</td>\n",
       "      <td>4</td>\n",
       "      <td>29</td>\n",
       "      <td>40</td>\n",
       "      <td>47</td>\n",
       "      <td>1</td>\n",
       "      <td>2</td>\n",
       "      <td>8</td>\n",
       "      <td>7</td>\n",
       "      <td>0</td>\n",
       "      <td>1</td>\n",
       "      <td>2</td>\n",
       "      <td>1</td>\n",
       "      <td>2</td>\n",
       "      <td>1</td>\n",
       "      <td>1</td>\n",
       "      <td>0</td>\n",
       "      <td>8</td>\n",
       "      <td>4</td>\n",
       "    </tr>\n",
       "  </tbody>\n",
       "</table>\n",
       "</div>"
      ],
      "text/plain": [
       "  B_white       Check_black       Doubled_pawns_white        \\\n",
       "     self other        self other                self other   \n",
       "0       2     1           1     0                   0     1   \n",
       "\n",
       "  Isolated_pawns_black       Isolated_pawns_white        \\\n",
       "                  self other                 self other   \n",
       "0                    0     2                    0     2   \n",
       "\n",
       "  King_zone_attacked_squares_white       King_zone_controlled_squares_black  \\\n",
       "                              self other                               self   \n",
       "0                                2     0                                  5   \n",
       "\n",
       "        King_zone_controlled_squares_white       Mobility_black        \\\n",
       "  other                               self other           self other   \n",
       "0     6                                  6     5              4    29   \n",
       "\n",
       "  Mobility_white       N_white       P_white       Passed_pawns_white        \\\n",
       "            self other    self other    self other               self other   \n",
       "0             40    47       1     2       8     7                  0     1   \n",
       "\n",
       "  Trapped_rooks_black       Trapped_rooks_white       n_black       p_black  \\\n",
       "                 self other                self other    self other    self   \n",
       "0                   2     1                   2     1       1     0       8   \n",
       "\n",
       "         \n",
       "  other  \n",
       "0     4  "
      ]
     },
     "execution_count": 31,
     "metadata": {},
     "output_type": "execute_result"
    }
   ],
   "source": [
    "last_board_features.compare(current_board_features)"
   ]
  },
  {
   "cell_type": "code",
   "execution_count": 17,
   "metadata": {},
   "outputs": [
    {
     "data": {
      "text/html": [
       "<div>\n",
       "<style scoped>\n",
       "    .dataframe tbody tr th:only-of-type {\n",
       "        vertical-align: middle;\n",
       "    }\n",
       "\n",
       "    .dataframe tbody tr th {\n",
       "        vertical-align: top;\n",
       "    }\n",
       "\n",
       "    .dataframe thead th {\n",
       "        text-align: right;\n",
       "    }\n",
       "</style>\n",
       "<table border=\"1\" class=\"dataframe\">\n",
       "  <thead>\n",
       "    <tr style=\"text-align: right;\">\n",
       "      <th></th>\n",
       "      <th>Doubled_pawns_black</th>\n",
       "      <th>Doubled_pawns_white</th>\n",
       "      <th>Isolated_pawns_black</th>\n",
       "      <th>Isolated_pawns_white</th>\n",
       "      <th>King_pawn_shield_black</th>\n",
       "      <th>King_pawn_shield_white</th>\n",
       "      <th>King_zone_attacked_squares_black</th>\n",
       "      <th>King_zone_attacked_squares_white</th>\n",
       "      <th>King_zone_controlled_squares_black</th>\n",
       "      <th>King_zone_controlled_squares_white</th>\n",
       "      <th>Mobility_black</th>\n",
       "      <th>Mobility_white</th>\n",
       "      <th>Passed_pawns_black</th>\n",
       "      <th>Passed_pawns_white</th>\n",
       "      <th>Result</th>\n",
       "    </tr>\n",
       "  </thead>\n",
       "  <tbody>\n",
       "    <tr>\n",
       "      <th>0</th>\n",
       "      <td>0</td>\n",
       "      <td>1</td>\n",
       "      <td>0</td>\n",
       "      <td>1</td>\n",
       "      <td>0</td>\n",
       "      <td>0</td>\n",
       "      <td>0</td>\n",
       "      <td>0</td>\n",
       "      <td>0</td>\n",
       "      <td>0</td>\n",
       "      <td>-7</td>\n",
       "      <td>-1</td>\n",
       "      <td>0</td>\n",
       "      <td>0</td>\n",
       "      <td>0</td>\n",
       "    </tr>\n",
       "  </tbody>\n",
       "</table>\n",
       "</div>"
      ],
      "text/plain": [
       "   Doubled_pawns_black  Doubled_pawns_white  Isolated_pawns_black  \\\n",
       "0                    0                    1                     0   \n",
       "\n",
       "   Isolated_pawns_white  King_pawn_shield_black  King_pawn_shield_white  \\\n",
       "0                     1                       0                       0   \n",
       "\n",
       "   King_zone_attacked_squares_black  King_zone_attacked_squares_white  \\\n",
       "0                                 0                                 0   \n",
       "\n",
       "   King_zone_controlled_squares_black  King_zone_controlled_squares_white  \\\n",
       "0                                   0                                   0   \n",
       "\n",
       "   Mobility_black  Mobility_white  Passed_pawns_black  Passed_pawns_white  \\\n",
       "0              -7              -1                   0                   0   \n",
       "\n",
       "   Result  \n",
       "0       0  "
      ]
     },
     "execution_count": 17,
     "metadata": {},
     "output_type": "execute_result"
    }
   ],
   "source": [
    "current_board_features.subtract(last_board_features,fill_value=0)"
   ]
  }
 ],
 "metadata": {
  "kernelspec": {
   "display_name": "Python 3",
   "language": "python",
   "name": "python3"
  },
  "language_info": {
   "codemirror_mode": {
    "name": "ipython",
    "version": 3
   },
   "file_extension": ".py",
   "mimetype": "text/x-python",
   "name": "python",
   "nbconvert_exporter": "python",
   "pygments_lexer": "ipython3",
   "version": "3.10.12"
  }
 },
 "nbformat": 4,
 "nbformat_minor": 2
}
