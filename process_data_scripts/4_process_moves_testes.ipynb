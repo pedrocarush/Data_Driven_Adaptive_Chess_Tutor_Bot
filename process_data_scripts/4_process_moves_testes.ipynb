{
 "cells": [
  {
   "cell_type": "code",
   "execution_count": 3,
   "metadata": {},
   "outputs": [],
   "source": [
    "import pandas as pd\n",
    "import chess.pgn\n",
    "import io"
   ]
  },
  {
   "cell_type": "code",
   "execution_count": 4,
   "metadata": {},
   "outputs": [],
   "source": [
    "CSV_FILE_PATH = \"/home/joao/workspace/lichess/datasets_csv/clean_classical_above_800_2023-01.csv\"\n",
    "\n",
    "df = pd.read_csv(CSV_FILE_PATH, index_col=0, header=0)"
   ]
  },
  {
   "cell_type": "code",
   "execution_count": 5,
   "metadata": {},
   "outputs": [
    {
     "name": "stdout",
     "output_type": "stream",
     "text": [
      "(519228, 4)\n",
      "Index(['WhiteElo', 'BlackElo', 'Result', 'Moves'], dtype='object')\n"
     ]
    }
   ],
   "source": [
    "print(df.shape)\n",
    "print(df.columns)"
   ]
  },
  {
   "cell_type": "code",
   "execution_count": 6,
   "metadata": {},
   "outputs": [
    {
     "data": {
      "text/plain": [
       "(4364, 4)"
      ]
     },
     "execution_count": 6,
     "metadata": {},
     "output_type": "execute_result"
    }
   ],
   "source": [
    "df = df[(df['WhiteElo'] <= 1000) & (df['BlackElo'] <= 1000)]\n",
    "df.shape"
   ]
  },
  {
   "cell_type": "code",
   "execution_count": 7,
   "metadata": {},
   "outputs": [],
   "source": [
    "tmp = df.iloc[0]['Moves']"
   ]
  },
  {
   "cell_type": "code",
   "execution_count": 8,
   "metadata": {},
   "outputs": [
    {
     "name": "stdout",
     "output_type": "stream",
     "text": [
      "rnbqkbnr/pppppppp/8/8/4P3/8/PPPP1PPP/RNBQKBNR b KQkq - 0 1 e2e4\n",
      "rnbqkbnr/pppp1ppp/8/4p3/4P3/8/PPPP1PPP/RNBQKBNR w KQkq - 0 2 e7e5\n",
      "rnbqkbnr/pppp1ppp/8/4p3/4P3/5N2/PPPP1PPP/RNBQKB1R b KQkq - 1 2 g1f3\n",
      "rnbqkbnr/pppp2pp/5p2/4p3/4P3/5N2/PPPP1PPP/RNBQKB1R w KQkq - 0 3 f7f6\n",
      "rnbqkbnr/pppp2pp/5p2/4p3/4P2N/8/PPPP1PPP/RNBQKB1R b KQkq - 1 3 f3h4\n",
      "rnbqkbnr/pppp3p/5p2/4p1p1/4P2N/8/PPPP1PPP/RNBQKB1R w KQkq - 0 4 g7g5\n",
      "rnbqkbnr/pppp3p/5p2/4pNp1/4P3/8/PPPP1PPP/RNBQKB1R b KQkq - 1 4 h4f5\n",
      "rnbqkbnr/ppp4p/3p1p2/4pNp1/4P3/8/PPPP1PPP/RNBQKB1R w KQkq - 0 5 d7d6\n",
      "rnbqkbnr/ppp4p/3p1p2/1B2pNp1/4P3/8/PPPP1PPP/RNBQK2R b KQkq - 1 5 f1b5\n",
      "rn1qkbnr/pppb3p/3p1p2/1B2pNp1/4P3/8/PPPP1PPP/RNBQK2R w KQkq - 2 6 c8d7\n",
      "rn1qkbnr/pppb3p/3N1p2/1B2p1p1/4P3/8/PPPP1PPP/RNBQK2R b KQkq - 0 6 f5d6\n",
      "rn1qk1nr/pppb3p/3b1p2/1B2p1p1/4P3/8/PPPP1PPP/RNBQK2R w KQkq - 0 7 f8d6\n",
      "rn1qk1nr/pppB3p/3b1p2/4p1p1/4P3/8/PPPP1PPP/RNBQK2R b KQkq - 0 7 b5d7\n",
      "rn2k1nr/pppq3p/3b1p2/4p1p1/4P3/8/PPPP1PPP/RNBQK2R w KQkq - 0 8 d8d7\n",
      "rn2k1nr/pppq3p/3b1p2/4p1p1/4P1P1/8/PPPP1P1P/RNBQK2R b KQkq - 0 8 g2g4\n",
      "rn2k1nr/ppp4p/2qb1p2/4p1p1/4P1P1/8/PPPP1P1P/RNBQK2R w KQkq - 1 9 d7c6\n",
      "rn2k1nr/ppp4p/2qb1p2/4p1p1/4P1P1/8/PPPPQP1P/RNB1K2R b KQkq - 2 9 d1e2\n",
      "rn2k2r/ppp4p/2qb1p1n/4p1p1/4P1P1/8/PPPPQP1P/RNB1K2R w KQkq - 3 10 g8h6\n",
      "rn2k2r/ppp4p/2qb1p1n/4p1p1/4P1P1/2N5/PPPPQP1P/R1B1K2R b KQkq - 4 10 b1c3\n",
      "rn2k2r/ppp4p/2qb3n/4ppp1/4P1P1/2N5/PPPPQP1P/R1B1K2R w KQkq - 0 11 f6f5\n",
      "rn2k2r/ppp4p/2qb3n/4pPp1/4P3/2N5/PPPPQP1P/R1B1K2R b KQkq - 0 11 g4f5\n",
      "rn2kr2/ppp4p/2qb3n/4pPp1/4P3/2N5/PPPPQP1P/R1B1K2R w KQq - 1 12 h8f8\n",
      "rn2kr2/ppp4p/2qb3n/3NpPp1/4P3/8/PPPPQP1P/R1B1K2R b KQq - 2 12 c3d5\n",
      "r3kr2/pppn3p/2qb3n/3NpPp1/4P3/8/PPPPQP1P/R1B1K2R w KQq - 3 13 b8d7\n",
      "r3kr2/pppn3p/2qb3n/3NpPp1/4P3/2P5/PP1PQP1P/R1B1K2R b KQq - 0 13 c2c3\n",
      "r3kr2/ppp4p/2qb1n1n/3NpPp1/4P3/2P5/PP1PQP1P/R1B1K2R w KQq - 1 14 d7f6\n",
      "r3kr2/ppp4p/2qb1n1n/4pPp1/1N2P3/2P5/PP1PQP1P/R1B1K2R b KQq - 2 14 d5b4\n",
      "r3kr2/1pp4p/2qb1n1n/p3pPp1/1N2P3/2P5/PP1PQP1P/R1B1K2R w KQq - 0 15 a7a5\n",
      "r3kr2/1pp4p/2Nb1n1n/p3pPp1/4P3/2P5/PP1PQP1P/R1B1K2R b KQq - 0 15 b4c6\n",
      "r3kr2/2p4p/2pb1n1n/p3pPp1/4P3/2P5/PP1PQP1P/R1B1K2R w KQq - 0 16 b7c6\n",
      "r3kr2/2p4p/2pb1n1n/p3pPp1/4P3/2P5/PP1PQP1P/1RB1K2R b Kq - 1 16 a1b1\n",
      "r3kr2/2p4p/2pb1n2/p3pPp1/4P1n1/2P5/PP1PQP1P/1RB1K2R w Kq - 2 17 h6g4\n",
      "r3kr2/2p4p/2pb1n2/p3pPp1/1P2P1n1/2P5/P2PQP1P/1RB1K2R b Kq - 0 17 b2b4\n",
      "r3kr2/2p4p/3b1n2/p1p1pPp1/1P2P1n1/2P5/P2PQP1P/1RB1K2R w Kq - 0 18 c6c5\n",
      "r3kr2/2p4p/3b1n2/p1P1pPp1/4P1n1/2P5/P2PQP1P/1RB1K2R b Kq - 0 18 b4c5\n",
      "r3kr2/2p4p/5n2/p1b1pPp1/4P1n1/2P5/P2PQP1P/1RB1K2R w Kq - 0 19 d6c5\n",
      "r3kr2/2p4p/5n2/p1b1pPp1/2Q1P1n1/2P5/P2P1P1P/1RB1K2R b Kq - 1 19 e2c4\n",
      "r3kr2/2pn3p/8/p1b1pPp1/2Q1P1n1/2P5/P2P1P1P/1RB1K2R w Kq - 2 20 f6d7\n",
      "r3kr2/2pn3p/4Q3/p1b1pPp1/4P1n1/2P5/P2P1P1P/1RB1K2R b Kq - 3 20 c4e6\n",
      "r2k1r2/2pn3p/4Q3/p1b1pPp1/4P1n1/2P5/P2P1P1P/1RB1K2R w K - 4 21 e8d8\n",
      "r2k1r2/2pn3p/2Q5/p1b1pPp1/4P1n1/2P5/P2P1P1P/1RB1K2R b K - 5 21 e6c6\n",
      "r2k1r2/2pn3p/2Q5/p3pPp1/4P1n1/2P5/P2P1b1P/1RB1K2R w K - 0 22 c5f2\n",
      "r2k1r2/2pn3p/2Q5/p3pPp1/4P1n1/2P5/P2P1b1P/1RBK3R b - - 1 22 e1d1\n",
      "r2k4/2pn3p/2Q2r2/p3pPp1/4P1n1/2P5/P2P1b1P/1RBK3R w - - 2 23 f8f6\n",
      "r2k4/2pn3p/2Q2r2/p3pPp1/4P1n1/B1P5/P2P1b1P/1R1K3R b - - 3 23 c1a3\n",
      "r2k4/2pn3p/2r5/p3pPp1/4P1n1/B1P5/P2P1b1P/1R1K3R w - - 0 24 f6c6\n",
      "r2k4/2pn3p/2r5/p3pPp1/4P1n1/B1P5/P2P1b1P/1R1K1R2 b - - 1 24 h1f1\n",
      "r2k4/2pn3p/2r5/p1b1pPp1/4P1n1/B1P5/P2P3P/1R1K1R2 w - - 2 25 f2c5\n",
      "r2k4/2pn3p/2r5/p1b1pPp1/4P1n1/B1P4P/P2P4/1R1K1R2 b - - 0 25 h2h3\n",
      "r2k4/2pn3p/2r5/p1b1pPp1/4P3/B1P4P/P2P3n/1R1K1R2 w - - 1 26 g4h2\n",
      "r2k4/2pn3p/2r5/p1b1pPp1/4P3/B1P4P/P2P3n/1R1K3R b - - 2 26 f1h1\n",
      "r2k4/2pn3p/2r5/p1b1pPp1/4P3/B1P2n1P/P2P4/1R1K3R w - - 3 27 h2f3\n",
      "r2k4/2pn3p/2r5/p1b1pPp1/4P3/BRP2n1P/P2P4/3K3R b - - 4 27 b1b3\n",
      "r2k4/2pn3p/2r5/2b1pPp1/p3P3/BRP2n1P/P2P4/3K3R w - - 0 28 a5a4\n",
      "r2k4/2pn3p/2r5/2b1pPp1/pR2P3/B1P2n1P/P2P4/3K3R b - - 1 28 b3b4\n",
      "r2k4/2pn3p/3r4/2b1pPp1/pR2P3/B1P2n1P/P2P4/3K3R w - - 2 29 c6d6\n",
      "r2k4/2pn3p/3r4/2b1pPp1/pR2P3/B1P2n1P/P2P4/3K1R2 b - - 3 29 h1f1\n",
      "r2k4/2pn3p/3r4/2b1pPp1/pR2P3/B1P4P/P2n4/3K1R2 w - - 0 30 f3d2\n",
      "r2k4/2pn3p/3r4/2b1pPp1/pR2P3/B1P4P/P2n1R2/3K4 b - - 1 30 f1f2\n",
      "r2k4/2pn3p/3r4/4pPp1/pR2P3/B1P4P/P2n1b2/3K4 w - - 0 31 c5f2\n",
      "r2k4/2pn3p/3r4/1R2pPp1/p3P3/B1P4P/P2n1b2/3K4 b - - 1 31 b4b5\n",
      "r2k4/2pn3p/3r4/1R2pPp1/p3n3/B1P4P/P4b2/3K4 w - - 0 32 d2e4\n",
      "r2k4/2pn3p/3B4/1R2pPp1/p3n3/2P4P/P4b2/3K4 b - - 0 32 a3d6\n",
      "r2k4/3n3p/3p4/1R2pPp1/p3n3/2P4P/P4b2/3K4 w - - 0 33 c7d6\n",
      "r2k4/1R1n3p/3p4/4pPp1/p3n3/2P4P/P4b2/3K4 b - - 1 33 b5b7\n",
      "r1k5/1R1n3p/3p4/4pPp1/p3n3/2P4P/P4b2/3K4 w - - 2 34 d8c8\n",
      "r1k5/3n3p/3p4/4pPp1/pR2n3/2P4P/P4b2/3K4 b - - 3 34 b7b4\n",
      "r1k5/3n3p/3p4/4pPp1/pR6/2n4P/P4b2/3K4 w - - 0 35 e4c3\n",
      "r1k5/3n3p/3p4/4pPp1/pR6/2n4P/P2K1b2/8 b - - 1 35 d1d2\n",
      "r1k5/3n3p/3p4/4pPp1/pR6/7P/n2K1b2/8 w - - 0 36 c3a2\n",
      "r1k5/3n3p/3p4/4pPp1/p5R1/7P/n2K1b2/8 b - - 1 36 b4g4\n",
      "r1k5/3n4/3p3p/4pPp1/p5R1/7P/n2K1b2/8 w - - 0 37 h7h6\n",
      "r1k5/3n4/3p3p/4pPp1/p5R1/7P/n3Kb2/8 b - - 1 37 d2e2\n",
      "r1k5/3n4/3p3p/4pPp1/p5Rb/7P/n3K3/8 w - - 2 38 f2h4\n",
      "r1k5/3n4/3p3p/4pPp1/p5Rb/5K1P/n7/8 b - - 3 38 e2f3\n",
      "r1k5/8/3p1n1p/4pPp1/p5Rb/5K1P/n7/8 w - - 4 39 d7f6\n",
      "r1k5/8/3p1n1p/4pPp1/p1R4b/5K1P/n7/8 b - - 5 39 g4c4\n",
      "r7/3k4/3p1n1p/4pPp1/p1R4b/5K1P/n7/8 w - - 6 40 c8d7\n",
      "r7/3k4/3p1n1p/4pPp1/p6R/5K1P/n7/8 b - - 0 40 c4h4\n",
      "r7/3k4/3p1n1p/4pP2/p6p/5K1P/n7/8 w - - 0 41 g5h4\n"
     ]
    }
   ],
   "source": [
    "pgn = chess.pgn.read_game(io.StringIO(tmp))\n",
    "board = pgn.board()\n",
    "\n",
    "for move in pgn.mainline_moves():\n",
    "    board.push(move)\n",
    "    print(board.fen(), move)"
   ]
  },
  {
   "cell_type": "code",
   "execution_count": 12,
   "metadata": {},
   "outputs": [],
   "source": [
    "# define custom function to transform each row into one row per move available from the PGN\n",
    "def process_row(row: pd.Series):\n",
    "    moves = row['Moves']\n",
    "    dict_result = {'Id': [], 'WhiteElo': [], 'BlackElo': [], 'Result': [], 'Board':[]}\n",
    "\n",
    "    pgn = chess.pgn.read_game(io.StringIO(moves))\n",
    "    board = pgn.board()\n",
    "\n",
    "    for move in pgn.mainline_moves():\n",
    "        dict_result['Id'].append(row.name)\n",
    "        dict_result['WhiteElo'].append(row['WhiteElo'])\n",
    "        dict_result['BlackElo'].append(row['BlackElo'])\n",
    "        dict_result['Result'].append(row['Result'])\n",
    "        dict_result['Board'].append(board.fen())\n",
    "        board.push(move)\n",
    "        # print(board.fen(), move)\n",
    "    return pd.DataFrame(dict_result)\n",
    "    \n",
    "# apply custom function to each row in dataframe and concatenate results\n",
    "result = pd.concat(df.apply(process_row, axis=1).tolist(), ignore_index=True).set_index('Id')\n"
   ]
  },
  {
   "cell_type": "code",
   "execution_count": 13,
   "metadata": {},
   "outputs": [
    {
     "data": {
      "text/html": [
       "<div>\n",
       "<style scoped>\n",
       "    .dataframe tbody tr th:only-of-type {\n",
       "        vertical-align: middle;\n",
       "    }\n",
       "\n",
       "    .dataframe tbody tr th {\n",
       "        vertical-align: top;\n",
       "    }\n",
       "\n",
       "    .dataframe thead th {\n",
       "        text-align: right;\n",
       "    }\n",
       "</style>\n",
       "<table border=\"1\" class=\"dataframe\">\n",
       "  <thead>\n",
       "    <tr style=\"text-align: right;\">\n",
       "      <th></th>\n",
       "      <th>WhiteElo</th>\n",
       "      <th>BlackElo</th>\n",
       "      <th>Result</th>\n",
       "      <th>Board</th>\n",
       "    </tr>\n",
       "    <tr>\n",
       "      <th>Id</th>\n",
       "      <th></th>\n",
       "      <th></th>\n",
       "      <th></th>\n",
       "      <th></th>\n",
       "    </tr>\n",
       "  </thead>\n",
       "  <tbody>\n",
       "    <tr>\n",
       "      <th>https://lichess.org/9xFY5fim</th>\n",
       "      <td>956</td>\n",
       "      <td>880</td>\n",
       "      <td>0-1</td>\n",
       "      <td>rnbqkbnr/pppppppp/8/8/8/8/PPPPPPPP/RNBQKBNR w ...</td>\n",
       "    </tr>\n",
       "    <tr>\n",
       "      <th>https://lichess.org/9xFY5fim</th>\n",
       "      <td>956</td>\n",
       "      <td>880</td>\n",
       "      <td>0-1</td>\n",
       "      <td>rnbqkbnr/pppppppp/8/8/4P3/8/PPPP1PPP/RNBQKBNR ...</td>\n",
       "    </tr>\n",
       "    <tr>\n",
       "      <th>https://lichess.org/9xFY5fim</th>\n",
       "      <td>956</td>\n",
       "      <td>880</td>\n",
       "      <td>0-1</td>\n",
       "      <td>rnbqkbnr/pppp1ppp/8/4p3/4P3/8/PPPP1PPP/RNBQKBN...</td>\n",
       "    </tr>\n",
       "    <tr>\n",
       "      <th>https://lichess.org/9xFY5fim</th>\n",
       "      <td>956</td>\n",
       "      <td>880</td>\n",
       "      <td>0-1</td>\n",
       "      <td>rnbqkbnr/pppp1ppp/8/4p3/4P3/5N2/PPPP1PPP/RNBQK...</td>\n",
       "    </tr>\n",
       "    <tr>\n",
       "      <th>https://lichess.org/9xFY5fim</th>\n",
       "      <td>956</td>\n",
       "      <td>880</td>\n",
       "      <td>0-1</td>\n",
       "      <td>rnbqkbnr/pppp2pp/5p2/4p3/4P3/5N2/PPPP1PPP/RNBQ...</td>\n",
       "    </tr>\n",
       "    <tr>\n",
       "      <th>...</th>\n",
       "      <td>...</td>\n",
       "      <td>...</td>\n",
       "      <td>...</td>\n",
       "      <td>...</td>\n",
       "    </tr>\n",
       "    <tr>\n",
       "      <th>https://lichess.org/42ssxwWO</th>\n",
       "      <td>991</td>\n",
       "      <td>897</td>\n",
       "      <td>1-0</td>\n",
       "      <td>2r1k2r/p2nb1pp/b1Q2p2/q7/3P4/5N2/PPPB1PPP/RN2K...</td>\n",
       "    </tr>\n",
       "    <tr>\n",
       "      <th>https://lichess.org/42ssxwWO</th>\n",
       "      <td>991</td>\n",
       "      <td>897</td>\n",
       "      <td>1-0</td>\n",
       "      <td>2r1k2r/p2nb1pp/b4p2/q7/3PQ3/5N2/PPPB1PPP/RN2K2...</td>\n",
       "    </tr>\n",
       "    <tr>\n",
       "      <th>https://lichess.org/42ssxwWO</th>\n",
       "      <td>991</td>\n",
       "      <td>897</td>\n",
       "      <td>1-0</td>\n",
       "      <td>2r1k2r/p2nb1pp/b7/q4p2/3PQ3/5N2/PPPB1PPP/RN2K2...</td>\n",
       "    </tr>\n",
       "    <tr>\n",
       "      <th>https://lichess.org/42ssxwWO</th>\n",
       "      <td>991</td>\n",
       "      <td>897</td>\n",
       "      <td>1-0</td>\n",
       "      <td>2r1k2r/p2nb1pp/b7/q4p2/3P4/4QN2/PPPB1PPP/RN2K2...</td>\n",
       "    </tr>\n",
       "    <tr>\n",
       "      <th>https://lichess.org/42ssxwWO</th>\n",
       "      <td>991</td>\n",
       "      <td>897</td>\n",
       "      <td>1-0</td>\n",
       "      <td>2r1k2r/p3b1pp/bn6/q4p2/3P4/4QN2/PPPB1PPP/RN2K2...</td>\n",
       "    </tr>\n",
       "  </tbody>\n",
       "</table>\n",
       "<p>241260 rows × 4 columns</p>\n",
       "</div>"
      ],
      "text/plain": [
       "                              WhiteElo  BlackElo Result  \\\n",
       "Id                                                        \n",
       "https://lichess.org/9xFY5fim       956       880    0-1   \n",
       "https://lichess.org/9xFY5fim       956       880    0-1   \n",
       "https://lichess.org/9xFY5fim       956       880    0-1   \n",
       "https://lichess.org/9xFY5fim       956       880    0-1   \n",
       "https://lichess.org/9xFY5fim       956       880    0-1   \n",
       "...                                ...       ...    ...   \n",
       "https://lichess.org/42ssxwWO       991       897    1-0   \n",
       "https://lichess.org/42ssxwWO       991       897    1-0   \n",
       "https://lichess.org/42ssxwWO       991       897    1-0   \n",
       "https://lichess.org/42ssxwWO       991       897    1-0   \n",
       "https://lichess.org/42ssxwWO       991       897    1-0   \n",
       "\n",
       "                                                                          Board  \n",
       "Id                                                                               \n",
       "https://lichess.org/9xFY5fim  rnbqkbnr/pppppppp/8/8/8/8/PPPPPPPP/RNBQKBNR w ...  \n",
       "https://lichess.org/9xFY5fim  rnbqkbnr/pppppppp/8/8/4P3/8/PPPP1PPP/RNBQKBNR ...  \n",
       "https://lichess.org/9xFY5fim  rnbqkbnr/pppp1ppp/8/4p3/4P3/8/PPPP1PPP/RNBQKBN...  \n",
       "https://lichess.org/9xFY5fim  rnbqkbnr/pppp1ppp/8/4p3/4P3/5N2/PPPP1PPP/RNBQK...  \n",
       "https://lichess.org/9xFY5fim  rnbqkbnr/pppp2pp/5p2/4p3/4P3/5N2/PPPP1PPP/RNBQ...  \n",
       "...                                                                         ...  \n",
       "https://lichess.org/42ssxwWO  2r1k2r/p2nb1pp/b1Q2p2/q7/3P4/5N2/PPPB1PPP/RN2K...  \n",
       "https://lichess.org/42ssxwWO  2r1k2r/p2nb1pp/b4p2/q7/3PQ3/5N2/PPPB1PPP/RN2K2...  \n",
       "https://lichess.org/42ssxwWO  2r1k2r/p2nb1pp/b7/q4p2/3PQ3/5N2/PPPB1PPP/RN2K2...  \n",
       "https://lichess.org/42ssxwWO  2r1k2r/p2nb1pp/b7/q4p2/3P4/4QN2/PPPB1PPP/RN2K2...  \n",
       "https://lichess.org/42ssxwWO  2r1k2r/p3b1pp/bn6/q4p2/3P4/4QN2/PPPB1PPP/RN2K2...  \n",
       "\n",
       "[241260 rows x 4 columns]"
      ]
     },
     "execution_count": 13,
     "metadata": {},
     "output_type": "execute_result"
    }
   ],
   "source": [
    "result"
   ]
  },
  {
   "cell_type": "code",
   "execution_count": null,
   "metadata": {},
   "outputs": [],
   "source": []
  }
 ],
 "metadata": {
  "kernelspec": {
   "display_name": "base",
   "language": "python",
   "name": "python3"
  },
  "language_info": {
   "codemirror_mode": {
    "name": "ipython",
    "version": 3
   },
   "file_extension": ".py",
   "mimetype": "text/x-python",
   "name": "python",
   "nbconvert_exporter": "python",
   "pygments_lexer": "ipython3",
   "version": "3.9.13 (main, Aug 25 2022, 23:26:10) \n[GCC 11.2.0]"
  },
  "orig_nbformat": 4,
  "vscode": {
   "interpreter": {
    "hash": "46b936ff1622c326d442b837a2b71fa5dbcf20e52e3a75b5ec5a0d8bfc7f438d"
   }
  }
 },
 "nbformat": 4,
 "nbformat_minor": 2
}
