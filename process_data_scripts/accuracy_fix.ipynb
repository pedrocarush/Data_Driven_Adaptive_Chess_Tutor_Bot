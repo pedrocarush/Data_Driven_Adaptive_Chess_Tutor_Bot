{
 "cells": [
  {
   "cell_type": "code",
   "execution_count": 11,
   "metadata": {},
   "outputs": [],
   "source": [
    "import pandas as pd\n",
    "import numpy as np\n",
    "#import openpyxl\n",
    "import os\n",
    "from tqdm import tqdm\n",
    "tqdm.pandas()\n",
    "import csv\n",
    "\n",
    "import tensorflow as tf\n",
    "#from tensorflow.keras.models import Sequential\n",
    "#from tensorflow.keras.layers import Dense\n",
    "#from tensorflow.keras.utils import to_categorical\n",
    "\n",
    "from sklearn.model_selection import KFold\n",
    "from sklearn.model_selection import train_test_split\n",
    "import tensorflow_decision_forests as tfdf"
   ]
  },
  {
   "cell_type": "code",
   "execution_count": 12,
   "metadata": {},
   "outputs": [],
   "source": [
    "BASE_FOLDER = '../data/5_lichess_csv_ML_ready'\n",
    "MODEL_FOLDER = '../data/6_models'\n",
    "OUTPUT_ACCURACY = \"../data/Model_accuracy_TEST.csv\""
   ]
  },
  {
   "cell_type": "code",
   "execution_count": 13,
   "metadata": {},
   "outputs": [],
   "source": [
    "#for csv_file_name in tqdm(os.listdir(MODEL_FOLDER)):\n",
    "    #INPUT_MODEL = f'{MODEL_FOLDER}/{csv_file_name}'\n",
    "    #print(INPUT_MODEL)\n",
    "    #model = tf.keras.models.load_model(INPUT_MODEL)\n",
    "    #model = tf.keras.layers.TFSMLayer(INPUT_MODEL, call_endpoint='serving_default')\n",
    "    #model = tf.saved_model.load(INPUT_MODEL)\n",
    "    #print(model)"
   ]
  },
  {
   "cell_type": "code",
   "execution_count": 14,
   "metadata": {},
   "outputs": [],
   "source": [
    "accuracies = {}"
   ]
  },
  {
   "cell_type": "code",
   "execution_count": 15,
   "metadata": {},
   "outputs": [
    {
     "name": "stderr",
     "output_type": "stream",
     "text": [
      "  0%|          | 0/20 [00:00<?, ?it/s]"
     ]
    },
    {
     "name": "stdout",
     "output_type": "stream",
     "text": [
      "Reading file Elo_1200_1300.csv.pkl\n",
      "../data/6_models/Elo_1200_1300.csv.pkl\n"
     ]
    },
    {
     "name": "stderr",
     "output_type": "stream",
     "text": [
      "[INFO 24-04-29 13:43:42.9272 WEST kernel.cc:1233] Loading model from path ../data/6_models/Elo_1200_1300.csv.pkl/assets/ with prefix b28308232db94fcf\n",
      "[INFO 24-04-29 13:44:09.4319 WEST decision_forest.cc:660] Model loaded with 300 root(s), 6774420 node(s), and 32 input feature(s).\n",
      "[INFO 24-04-29 13:44:09.4319 WEST abstract_model.cc:1344] Engine \"RandomForestOptPred\" built\n",
      "[INFO 24-04-29 13:44:09.4320 WEST kernel.cc:1061] Use fast generic engine\n"
     ]
    },
    {
     "name": "stdout",
     "output_type": "stream",
     "text": [
      "1555/1555 [==============================] - 142s 91ms/step - loss: 0.0000e+00 - accuracy: 0.6937\n"
     ]
    },
    {
     "name": "stderr",
     "output_type": "stream",
     "text": [
      "  5%|▌         | 1/20 [03:01<57:22, 181.18s/it]"
     ]
    },
    {
     "name": "stdout",
     "output_type": "stream",
     "text": [
      "0.6937426924705505\n",
      "Reading file Elo_1400_1500.csv.pkl\n",
      "../data/6_models/Elo_1400_1500.csv.pkl\n"
     ]
    },
    {
     "name": "stderr",
     "output_type": "stream",
     "text": [
      "[INFO 24-04-29 13:46:43.9393 WEST kernel.cc:1233] Loading model from path ../data/6_models/Elo_1400_1500.csv.pkl/assets/ with prefix bc87f6dc22974f9c\n",
      "[INFO 24-04-29 13:47:15.7735 WEST decision_forest.cc:660] Model loaded with 300 root(s), 8655072 node(s), and 32 input feature(s).\n",
      "[INFO 24-04-29 13:47:15.7735 WEST abstract_model.cc:1344] Engine \"RandomForestOptPred\" built\n",
      "[INFO 24-04-29 13:47:15.7736 WEST kernel.cc:1061] Use fast generic engine\n"
     ]
    },
    {
     "name": "stdout",
     "output_type": "stream",
     "text": [
      "3425/3425 [==============================] - 308s 90ms/step - loss: 0.0000e+00 - accuracy: 0.6665\n"
     ]
    },
    {
     "name": "stderr",
     "output_type": "stream",
     "text": [
      " 10%|█         | 2/20 [09:12<1:27:50, 292.79s/it]"
     ]
    },
    {
     "name": "stdout",
     "output_type": "stream",
     "text": [
      "0.666538417339325\n",
      "Reading file Elo_1100_1200.csv.pkl\n",
      "../data/6_models/Elo_1100_1200.csv.pkl\n"
     ]
    },
    {
     "name": "stderr",
     "output_type": "stream",
     "text": [
      "[INFO 24-04-29 13:52:54.8409 WEST kernel.cc:1233] Loading model from path ../data/6_models/Elo_1100_1200.csv.pkl/assets/ with prefix 848f18b48e254433\n",
      "[INFO 24-04-29 13:53:13.0118 WEST decision_forest.cc:660] Model loaded with 300 root(s), 5412052 node(s), and 32 input feature(s).\n",
      "[INFO 24-04-29 13:53:13.0119 WEST abstract_model.cc:1344] Engine \"RandomForestOptPred\" built\n",
      "[INFO 24-04-29 13:53:13.0119 WEST kernel.cc:1061] Use fast generic engine\n"
     ]
    },
    {
     "name": "stdout",
     "output_type": "stream",
     "text": [
      "850/850 [==============================] - 62s 72ms/step - loss: 0.0000e+00 - accuracy: 0.7172\n"
     ]
    },
    {
     "name": "stderr",
     "output_type": "stream",
     "text": [
      " 15%|█▌        | 3/20 [10:38<56:14, 198.51s/it]  "
     ]
    },
    {
     "name": "stdout",
     "output_type": "stream",
     "text": [
      "0.7171909213066101\n",
      "Reading file Elo_1300_1400.csv.pkl\n",
      "../data/6_models/Elo_1300_1400.csv.pkl\n"
     ]
    },
    {
     "name": "stderr",
     "output_type": "stream",
     "text": [
      "[INFO 24-04-29 13:54:21.1313 WEST kernel.cc:1233] Loading model from path ../data/6_models/Elo_1300_1400.csv.pkl/assets/ with prefix 83ad9a73bbe04f11\n",
      "[INFO 24-04-29 13:54:53.6287 WEST decision_forest.cc:660] Model loaded with 300 root(s), 7825938 node(s), and 32 input feature(s).\n",
      "[INFO 24-04-29 13:54:53.6287 WEST abstract_model.cc:1344] Engine \"RandomForestOptPred\" built\n",
      "[INFO 24-04-29 13:54:53.6288 WEST kernel.cc:1061] Use fast generic engine\n"
     ]
    },
    {
     "name": "stdout",
     "output_type": "stream",
     "text": [
      "2423/2423 [==============================] - 182s 75ms/step - loss: 0.0000e+00 - accuracy: 0.6771\n"
     ]
    },
    {
     "name": "stderr",
     "output_type": "stream",
     "text": [
      " 20%|██        | 4/20 [14:33<56:49, 213.06s/it]"
     ]
    },
    {
     "name": "stdout",
     "output_type": "stream",
     "text": [
      "0.677089512348175\n",
      "Reading file Elo_900_1000.csv.pkl\n",
      "../data/6_models/Elo_900_1000.csv.pkl\n"
     ]
    },
    {
     "name": "stderr",
     "output_type": "stream",
     "text": [
      "[INFO 24-04-29 13:58:16.8000 WEST kernel.cc:1233] Loading model from path ../data/6_models/Elo_900_1000.csv.pkl/assets/ with prefix 0e9adbc1a5e24ebb\n",
      "[INFO 24-04-29 13:58:21.9415 WEST decision_forest.cc:660] Model loaded with 300 root(s), 1477036 node(s), and 32 input feature(s).\n",
      "[INFO 24-04-29 13:58:21.9416 WEST abstract_model.cc:1344] Engine \"RandomForestOptPred\" built\n",
      "[INFO 24-04-29 13:58:21.9416 WEST kernel.cc:1061] Use fast generic engine\n"
     ]
    },
    {
     "name": "stdout",
     "output_type": "stream",
     "text": [
      "78/78 [==============================] - 5s 56ms/step - loss: 0.0000e+00 - accuracy: 0.8196\n"
     ]
    },
    {
     "name": "stderr",
     "output_type": "stream",
     "text": [
      " 25%|██▌       | 5/20 [14:44<35:01, 140.13s/it]"
     ]
    },
    {
     "name": "stdout",
     "output_type": "stream",
     "text": [
      "0.8196134567260742\n",
      "Reading file Elo_800_900.csv.pkl\n",
      "../data/6_models/Elo_800_900.csv.pkl\n"
     ]
    },
    {
     "name": "stderr",
     "output_type": "stream",
     "text": [
      "[INFO 24-04-29 13:58:27.3349 WEST kernel.cc:1233] Loading model from path ../data/6_models/Elo_800_900.csv.pkl/assets/ with prefix 0197852be0b44c76\n",
      "[INFO 24-04-29 13:58:28.3905 WEST decision_forest.cc:660] Model loaded with 300 root(s), 304790 node(s), and 32 input feature(s).\n",
      "[INFO 24-04-29 13:58:28.3905 WEST kernel.cc:1061] Use fast generic engine\n"
     ]
    },
    {
     "name": "stdout",
     "output_type": "stream",
     "text": [
      "11/11 [==============================] - 1s 36ms/step - loss: 0.0000e+00 - accuracy: 0.8640\n"
     ]
    },
    {
     "name": "stderr",
     "output_type": "stream",
     "text": [
      " 30%|███       | 6/20 [14:46<21:45, 93.26s/it] "
     ]
    },
    {
     "name": "stdout",
     "output_type": "stream",
     "text": [
      "0.8640298843383789\n",
      "Reading file Elo_1900_2000.csv.pkl\n",
      "../data/6_models/Elo_1900_2000.csv.pkl\n"
     ]
    },
    {
     "name": "stderr",
     "output_type": "stream",
     "text": [
      "[INFO 24-04-29 13:58:29.6005 WEST kernel.cc:1233] Loading model from path ../data/6_models/Elo_1900_2000.csv.pkl/assets/ with prefix 0de95952914b4756\n",
      "[INFO 24-04-29 13:58:51.1633 WEST decision_forest.cc:660] Model loaded with 300 root(s), 6356806 node(s), and 32 input feature(s).\n",
      "[INFO 24-04-29 13:58:51.1634 WEST abstract_model.cc:1344] Engine \"RandomForestOptPred\" built\n",
      "[INFO 24-04-29 13:58:51.1634 WEST kernel.cc:1061] Use fast generic engine\n"
     ]
    },
    {
     "name": "stdout",
     "output_type": "stream",
     "text": [
      "1618/1618 [==============================] - 115s 71ms/step - loss: 0.0000e+00 - accuracy: 0.6554\n"
     ]
    },
    {
     "name": "stderr",
     "output_type": "stream",
     "text": [
      " 35%|███▌      | 7/20 [17:15<24:07, 111.32s/it]"
     ]
    },
    {
     "name": "stdout",
     "output_type": "stream",
     "text": [
      "0.6554456949234009\n",
      "Reading file Elo_2100_2200.csv.pkl\n",
      "../data/6_models/Elo_2100_2200.csv.pkl\n"
     ]
    },
    {
     "name": "stderr",
     "output_type": "stream",
     "text": [
      "[INFO 24-04-29 14:00:58.0987 WEST kernel.cc:1233] Loading model from path ../data/6_models/Elo_2100_2200.csv.pkl/assets/ with prefix 2932a8d6a21d44df\n",
      "[INFO 24-04-29 14:01:10.2444 WEST decision_forest.cc:660] Model loaded with 300 root(s), 3643670 node(s), and 32 input feature(s).\n",
      "[INFO 24-04-29 14:01:10.2445 WEST abstract_model.cc:1344] Engine \"RandomForestOptPred\" built\n",
      "[INFO 24-04-29 14:01:10.2445 WEST kernel.cc:1061] Use fast generic engine\n"
     ]
    },
    {
     "name": "stdout",
     "output_type": "stream",
     "text": [
      "434/434 [==============================] - 29s 65ms/step - loss: 0.0000e+00 - accuracy: 0.6928\n"
     ]
    },
    {
     "name": "stderr",
     "output_type": "stream",
     "text": [
      " 40%|████      | 8/20 [17:59<18:00, 90.00s/it] "
     ]
    },
    {
     "name": "stdout",
     "output_type": "stream",
     "text": [
      "0.6927785873413086\n",
      "Reading file Elo_2300_2400.csv.pkl\n",
      "../data/6_models/Elo_2300_2400.csv.pkl\n"
     ]
    },
    {
     "name": "stderr",
     "output_type": "stream",
     "text": [
      "[INFO 24-04-29 14:01:42.6645 WEST kernel.cc:1233] Loading model from path ../data/6_models/Elo_2300_2400.csv.pkl/assets/ with prefix 40ae41b6682d4434\n",
      "[INFO 24-04-29 14:01:46.9980 WEST decision_forest.cc:660] Model loaded with 300 root(s), 1276418 node(s), and 32 input feature(s).\n",
      "[INFO 24-04-29 14:01:46.9980 WEST abstract_model.cc:1344] Engine \"RandomForestOptPred\" built\n",
      "[INFO 24-04-29 14:01:46.9980 WEST kernel.cc:1061] Use fast generic engine\n"
     ]
    },
    {
     "name": "stdout",
     "output_type": "stream",
     "text": [
      "76/76 [==============================] - 4s 53ms/step - loss: 0.0000e+00 - accuracy: 0.7962\n"
     ]
    },
    {
     "name": "stderr",
     "output_type": "stream",
     "text": [
      " 45%|████▌     | 9/20 [18:09<11:53, 64.87s/it]"
     ]
    },
    {
     "name": "stdout",
     "output_type": "stream",
     "text": [
      "0.7962386012077332\n",
      "Reading file Elo_2600_2700.csv.pkl\n",
      "../data/6_models/Elo_2600_2700.csv.pkl\n"
     ]
    },
    {
     "name": "stderr",
     "output_type": "stream",
     "text": [
      "[INFO 24-04-29 14:01:52.0382 WEST kernel.cc:1233] Loading model from path ../data/6_models/Elo_2600_2700.csv.pkl/assets/ with prefix 77f3330d3e9f4a2d\n",
      "[WARNING 24-04-29 14:01:52.0400 WEST utils.cc:73] The model does not have any input features i.e. the model is constant and will always return the same prediction.\n",
      "[INFO 24-04-29 14:01:52.0401 WEST decision_forest.cc:660] Model loaded with 300 root(s), 300 node(s), and 0 input feature(s).\n",
      "[INFO 24-04-29 14:01:52.0401 WEST kernel.cc:1061] Use fast generic engine\n"
     ]
    },
    {
     "name": "stdout",
     "output_type": "stream",
     "text": [
      "1/1 [==============================] - 0s 101ms/step - loss: 0.0000e+00 - accuracy: 1.0000\n"
     ]
    },
    {
     "name": "stderr",
     "output_type": "stream",
     "text": [
      " 50%|█████     | 10/20 [18:09<07:29, 44.94s/it]"
     ]
    },
    {
     "name": "stdout",
     "output_type": "stream",
     "text": [
      "1.0\n",
      "Reading file Elo_1000_1100.csv.pkl\n",
      "../data/6_models/Elo_1000_1100.csv.pkl\n"
     ]
    },
    {
     "name": "stderr",
     "output_type": "stream",
     "text": [
      "[INFO 24-04-29 14:01:52.4245 WEST kernel.cc:1233] Loading model from path ../data/6_models/Elo_1000_1100.csv.pkl/assets/ with prefix de98350516cf4f75\n",
      "[INFO 24-04-29 14:02:03.5342 WEST decision_forest.cc:660] Model loaded with 300 root(s), 3312260 node(s), and 32 input feature(s).\n",
      "[INFO 24-04-29 14:02:03.5343 WEST abstract_model.cc:1344] Engine \"RandomForestOptPred\" built\n",
      "[INFO 24-04-29 14:02:03.5343 WEST kernel.cc:1061] Use fast generic engine\n"
     ]
    },
    {
     "name": "stdout",
     "output_type": "stream",
     "text": [
      "310/310 [==============================] - 21s 67ms/step - loss: 0.0000e+00 - accuracy: 0.7487\n"
     ]
    },
    {
     "name": "stderr",
     "output_type": "stream",
     "text": [
      " 55%|█████▌    | 11/20 [18:44<06:17, 41.92s/it]"
     ]
    },
    {
     "name": "stdout",
     "output_type": "stream",
     "text": [
      "0.7487284541130066\n",
      "Reading file Elo_2200_2300.csv.pkl\n",
      "../data/6_models/Elo_2200_2300.csv.pkl\n"
     ]
    },
    {
     "name": "stderr",
     "output_type": "stream",
     "text": [
      "[INFO 24-04-29 14:02:27.4623 WEST kernel.cc:1233] Loading model from path ../data/6_models/Elo_2200_2300.csv.pkl/assets/ with prefix 242daa36a35e4033\n",
      "[INFO 24-04-29 14:02:34.5717 WEST decision_forest.cc:660] Model loaded with 300 root(s), 2184748 node(s), and 32 input feature(s).\n",
      "[INFO 24-04-29 14:02:34.5717 WEST abstract_model.cc:1344] Engine \"RandomForestOptPred\" built\n",
      "[INFO 24-04-29 14:02:34.5717 WEST kernel.cc:1061] Use fast generic engine\n"
     ]
    },
    {
     "name": "stdout",
     "output_type": "stream",
     "text": [
      "204/204 [==============================] - 13s 60ms/step - loss: 0.0000e+00 - accuracy: 0.7184\n"
     ]
    },
    {
     "name": "stderr",
     "output_type": "stream",
     "text": [
      " 60%|██████    | 12/20 [19:06<04:46, 35.75s/it]"
     ]
    },
    {
     "name": "stdout",
     "output_type": "stream",
     "text": [
      "0.7184211611747742\n",
      "Reading file Elo_1800_1900.csv.pkl\n",
      "../data/6_models/Elo_1800_1900.csv.pkl\n"
     ]
    },
    {
     "name": "stderr",
     "output_type": "stream",
     "text": [
      "[INFO 24-04-29 14:02:49.1046 WEST kernel.cc:1233] Loading model from path ../data/6_models/Elo_1800_1900.csv.pkl/assets/ with prefix 087666637f574ff1\n",
      "[INFO 24-04-29 14:03:15.1530 WEST decision_forest.cc:660] Model loaded with 300 root(s), 7769812 node(s), and 32 input feature(s).\n",
      "[INFO 24-04-29 14:03:15.1530 WEST abstract_model.cc:1344] Engine \"RandomForestOptPred\" built\n",
      "[INFO 24-04-29 14:03:15.1531 WEST kernel.cc:1061] Use fast generic engine\n"
     ]
    },
    {
     "name": "stdout",
     "output_type": "stream",
     "text": [
      "2606/2606 [==============================] - 192s 73ms/step - loss: 0.0000e+00 - accuracy: 0.6505\n"
     ]
    },
    {
     "name": "stderr",
     "output_type": "stream",
     "text": [
      " 65%|██████▌   | 13/20 [23:05<11:20, 97.24s/it]"
     ]
    },
    {
     "name": "stdout",
     "output_type": "stream",
     "text": [
      "0.6504877209663391\n",
      "Reading file Elo_1700_1800.csv.pkl\n",
      "../data/6_models/Elo_1700_1800.csv.pkl\n"
     ]
    },
    {
     "name": "stderr",
     "output_type": "stream",
     "text": [
      "[INFO 24-04-29 14:06:47.7944 WEST kernel.cc:1233] Loading model from path ../data/6_models/Elo_1700_1800.csv.pkl/assets/ with prefix 2b7eb6e60b5a4dd6\n",
      "[INFO 24-04-29 14:07:16.3966 WEST decision_forest.cc:660] Model loaded with 300 root(s), 8637752 node(s), and 32 input feature(s).\n",
      "[INFO 24-04-29 14:07:16.3966 WEST abstract_model.cc:1344] Engine \"RandomForestOptPred\" built\n",
      "[INFO 24-04-29 14:07:16.3966 WEST kernel.cc:1061] Use fast generic engine\n"
     ]
    },
    {
     "name": "stdout",
     "output_type": "stream",
     "text": [
      "3449/3449 [==============================] - 259s 75ms/step - loss: 0.0000e+00 - accuracy: 0.6476\n"
     ]
    },
    {
     "name": "stderr",
     "output_type": "stream",
     "text": [
      " 70%|███████   | 14/20 [28:20<16:18, 163.08s/it]"
     ]
    },
    {
     "name": "stdout",
     "output_type": "stream",
     "text": [
      "0.6475591659545898\n",
      "Reading file Elo_2500_2600.csv.pkl\n",
      "../data/6_models/Elo_2500_2600.csv.pkl\n"
     ]
    },
    {
     "name": "stderr",
     "output_type": "stream",
     "text": [
      "[INFO 24-04-29 14:12:03.0335 WEST kernel.cc:1233] Loading model from path ../data/6_models/Elo_2500_2600.csv.pkl/assets/ with prefix 371ca4a4d0534e43\n",
      "[INFO 24-04-29 14:12:03.6928 WEST decision_forest.cc:660] Model loaded with 300 root(s), 179282 node(s), and 32 input feature(s).\n",
      "[INFO 24-04-29 14:12:03.6929 WEST abstract_model.cc:1344] Engine \"RandomForestOptPred\" built\n",
      "[INFO 24-04-29 14:12:03.6929 WEST kernel.cc:1061] Use fast generic engine\n"
     ]
    },
    {
     "name": "stdout",
     "output_type": "stream",
     "text": [
      "7/7 [==============================] - 0s 29ms/step - loss: 0.0000e+00 - accuracy: 0.9218\n"
     ]
    },
    {
     "name": "stderr",
     "output_type": "stream",
     "text": [
      " 75%|███████▌  | 15/20 [28:21<09:31, 114.31s/it]"
     ]
    },
    {
     "name": "stdout",
     "output_type": "stream",
     "text": [
      "0.9218080043792725\n",
      "Reading file Elo_700_800.csv.pkl\n",
      "../data/6_models/Elo_700_800.csv.pkl\n",
      "1/1 [==============================] - 0s 100ms/step - loss: 0.0000e+00 - accuracy: 0.9692\n"
     ]
    },
    {
     "name": "stderr",
     "output_type": "stream",
     "text": [
      "[INFO 24-04-29 14:12:04.7749 WEST kernel.cc:1233] Loading model from path ../data/6_models/Elo_700_800.csv.pkl/assets/ with prefix b9f857859eb54bb7\n",
      "[INFO 24-04-29 14:12:04.7942 WEST decision_forest.cc:660] Model loaded with 300 root(s), 5780 node(s), and 24 input feature(s).\n",
      "[INFO 24-04-29 14:12:04.7942 WEST kernel.cc:1061] Use fast generic engine\n",
      " 80%|████████  | 16/20 [28:22<05:20, 80.14s/it] "
     ]
    },
    {
     "name": "stdout",
     "output_type": "stream",
     "text": [
      "0.9692307710647583\n",
      "Reading file Elo_1600_1700.csv.pkl\n",
      "../data/6_models/Elo_1600_1700.csv.pkl\n"
     ]
    },
    {
     "name": "stderr",
     "output_type": "stream",
     "text": [
      "[INFO 24-04-29 14:12:05.1065 WEST kernel.cc:1233] Loading model from path ../data/6_models/Elo_1600_1700.csv.pkl/assets/ with prefix 0670f5bd2a4d4ad1\n",
      "[INFO 24-04-29 14:12:35.0722 WEST decision_forest.cc:660] Model loaded with 300 root(s), 8902188 node(s), and 32 input feature(s).\n",
      "[INFO 24-04-29 14:12:35.0722 WEST abstract_model.cc:1344] Engine \"RandomForestOptPred\" built\n",
      "[INFO 24-04-29 14:12:35.0723 WEST kernel.cc:1061] Use fast generic engine\n"
     ]
    },
    {
     "name": "stdout",
     "output_type": "stream",
     "text": [
      "4012/4012 [==============================] - 302s 75ms/step - loss: 0.0000e+00 - accuracy: 0.6525\n"
     ]
    },
    {
     "name": "stderr",
     "output_type": "stream",
     "text": [
      " 85%|████████▌ | 17/20 [34:26<08:16, 165.66s/it]"
     ]
    },
    {
     "name": "stdout",
     "output_type": "stream",
     "text": [
      "0.6525354981422424\n",
      "Reading file Elo_2000_2100.csv.pkl\n",
      "../data/6_models/Elo_2000_2100.csv.pkl\n"
     ]
    },
    {
     "name": "stderr",
     "output_type": "stream",
     "text": [
      "[INFO 24-04-29 14:18:09.6548 WEST kernel.cc:1233] Loading model from path ../data/6_models/Elo_2000_2100.csv.pkl/assets/ with prefix 86f94a5f60474efe\n",
      "[INFO 24-04-29 14:18:27.0000 WEST decision_forest.cc:660] Model loaded with 300 root(s), 5156218 node(s), and 32 input feature(s).\n",
      "[INFO 24-04-29 14:18:27.0000 WEST abstract_model.cc:1344] Engine \"RandomForestOptPred\" built\n",
      "[INFO 24-04-29 14:18:27.0000 WEST kernel.cc:1061] Use fast generic engine\n"
     ]
    },
    {
     "name": "stdout",
     "output_type": "stream",
     "text": [
      "876/876 [==============================] - 62s 70ms/step - loss: 0.0000e+00 - accuracy: 0.6696\n"
     ]
    },
    {
     "name": "stderr",
     "output_type": "stream",
     "text": [
      " 90%|█████████ | 18/20 [35:52<04:43, 141.67s/it]"
     ]
    },
    {
     "name": "stdout",
     "output_type": "stream",
     "text": [
      "0.6696005463600159\n",
      "Reading file Elo_1500_1600.csv.pkl\n",
      "../data/6_models/Elo_1500_1600.csv.pkl\n"
     ]
    },
    {
     "name": "stderr",
     "output_type": "stream",
     "text": [
      "[INFO 24-04-29 14:19:35.4887 WEST kernel.cc:1233] Loading model from path ../data/6_models/Elo_1500_1600.csv.pkl/assets/ with prefix 3c51267f4bc14d39\n",
      "[INFO 24-04-29 14:20:04.6325 WEST decision_forest.cc:660] Model loaded with 300 root(s), 9012702 node(s), and 32 input feature(s).\n",
      "[INFO 24-04-29 14:20:04.6325 WEST abstract_model.cc:1344] Engine \"RandomForestOptPred\" built\n",
      "[INFO 24-04-29 14:20:04.6325 WEST kernel.cc:1061] Use fast generic engine\n"
     ]
    },
    {
     "name": "stdout",
     "output_type": "stream",
     "text": [
      "3977/3977 [==============================] - 299s 75ms/step - loss: 0.0000e+00 - accuracy: 0.6614\n"
     ]
    },
    {
     "name": "stderr",
     "output_type": "stream",
     "text": [
      " 95%|█████████▌| 19/20 [41:53<03:27, 207.47s/it]"
     ]
    },
    {
     "name": "stdout",
     "output_type": "stream",
     "text": [
      "0.6613545417785645\n",
      "Reading file Elo_2400_2500.csv.pkl\n",
      "../data/6_models/Elo_2400_2500.csv.pkl\n"
     ]
    },
    {
     "name": "stderr",
     "output_type": "stream",
     "text": [
      "[INFO 24-04-29 14:25:36.5460 WEST kernel.cc:1233] Loading model from path ../data/6_models/Elo_2400_2500.csv.pkl/assets/ with prefix b5605a409df54e36\n",
      "[INFO 24-04-29 14:25:38.9323 WEST decision_forest.cc:660] Model loaded with 300 root(s), 644424 node(s), and 32 input feature(s).\n",
      "[INFO 24-04-29 14:25:38.9324 WEST abstract_model.cc:1344] Engine \"RandomForestOptPred\" built\n",
      "[INFO 24-04-29 14:25:38.9324 WEST kernel.cc:1061] Use fast generic engine\n"
     ]
    },
    {
     "name": "stdout",
     "output_type": "stream",
     "text": [
      "28/28 [==============================] - 1s 43ms/step - loss: 0.0000e+00 - accuracy: 0.8742\n"
     ]
    },
    {
     "name": "stderr",
     "output_type": "stream",
     "text": [
      "100%|██████████| 20/20 [41:58<00:00, 125.91s/it]"
     ]
    },
    {
     "name": "stdout",
     "output_type": "stream",
     "text": [
      "0.8741714358329773\n"
     ]
    },
    {
     "name": "stderr",
     "output_type": "stream",
     "text": [
      "\n"
     ]
    }
   ],
   "source": [
    "for csv_file_name in tqdm(os.listdir(MODEL_FOLDER)):\n",
    "    print(f\"Reading file {csv_file_name}\")\n",
    "\n",
    "    if not csv_file_name.endswith('.pkl'):\n",
    "        continue\n",
    "\n",
    "    INPUT_FILE_PATH = f'{BASE_FOLDER}/{csv_file_name}'\n",
    "    INPUT_MODEL = f'{MODEL_FOLDER}/{csv_file_name}'\n",
    "    print(INPUT_MODEL)\n",
    "\n",
    "    #model = tf.saved_model.load(INPUT_MODEL)\n",
    "    model = tf.keras.models.load_model(INPUT_MODEL)\n",
    "\n",
    "    df = pd.read_pickle(INPUT_FILE_PATH)\n",
    "\n",
    "    #! remove draws for now\n",
    "    df = df[df['Result'] != 2]\n",
    "\n",
    "    #! remove unwanted columns in the training\n",
    "    df = df.drop(columns=['Board','MoveNumber','WhiteElo','BlackElo'])\n",
    "    df = df.reset_index(drop=True)\n",
    "    df = df.reindex(sorted(df.columns), axis=1)\n",
    "\n",
    "    # Load the trainning and test sets\n",
    "    train_df, test_df = train_test_split(df, test_size=0.2, random_state=42)\n",
    "\n",
    "    # Convert it to a TensorFlow dataset\n",
    "    test_ds = tfdf.keras.pd_dataframe_to_tf_dataset(test_df, label=\"Result\")\n",
    "\n",
    "    # Evaluate the model\n",
    "    model.compile(metrics=[\"accuracy\"])\n",
    "    accuracy = model.evaluate(test_ds)[1]\n",
    "    print(accuracy)\n",
    "\n",
    "    accuracies[csv_file_name] = accuracy\n",
    "\n",
    "    \n"
   ]
  },
  {
   "cell_type": "code",
   "execution_count": 16,
   "metadata": {},
   "outputs": [],
   "source": [
    "with open(OUTPUT_ACCURACY, 'w') as csvfile:     \n",
    "        writer = csv.DictWriter(csvfile, fieldnames = ['Model', 'Accuracy'])\n",
    "        writer.writeheader() \n",
    "        for i in accuracies:\n",
    "                writer.writerow({'Model': i, 'Accuracy': accuracies[i]})"
   ]
  }
 ],
 "metadata": {
  "kernelspec": {
   "display_name": "Python 3",
   "language": "python",
   "name": "python3"
  },
  "language_info": {
   "codemirror_mode": {
    "name": "ipython",
    "version": 3
   },
   "file_extension": ".py",
   "mimetype": "text/x-python",
   "name": "python",
   "nbconvert_exporter": "python",
   "pygments_lexer": "ipython3",
   "version": "3.10.12"
  }
 },
 "nbformat": 4,
 "nbformat_minor": 2
}
